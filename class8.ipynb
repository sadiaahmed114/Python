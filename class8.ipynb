{
 "cells": [
  {
   "cell_type": "code",
   "execution_count": 3,
   "metadata": {},
   "outputs": [
    {
     "name": "stdout",
     "output_type": "stream",
     "text": [
      "['clear', 'copy', 'fromkeys', 'get', 'items', 'keys', 'pop', 'popitem', 'setdefault', 'update', 'values']\n"
     ]
    }
   ],
   "source": [
    "from typing import Dict , Union , Optional\n",
    "import pprint\n",
    "\n",
    "key = Union[int,str ]\n",
    "Value = Union[int , str,list,dict,tuple, set]\n",
    "\n",
    "data : Dict[key ,Value] = {\n",
    "    \"fname\":\"Ali\",\n",
    "    \"name\":\"Ahmed\",\n",
    "    \"age\": \"34\"             # type: ignore\n",
    "}\n",
    "\n",
    "methods : list[str] = [m for m in dir(data) if \"__\" not in m]\n",
    "print(methods)"
   ]
  },
  {
   "cell_type": "code",
   "execution_count": 4,
   "metadata": {},
   "outputs": [
    {
     "name": "stdout",
     "output_type": "stream",
     "text": [
      "Before {'fname': 'Ali', 'name': 'Ahmed', 'age': '34'}\n",
      "After {}\n",
      "['clear', 'copy', 'fromkeys', 'get', 'items', 'keys', 'pop', 'popitem', 'setdefault', 'update', 'values']\n"
     ]
    }
   ],
   "source": [
    "from typing import Dict , Union , Optional\n",
    "import pprint\n",
    "\n",
    "key = Union[int,str ]\n",
    "Value = Union[int , str,list,dict,tuple, set]\n",
    "\n",
    "data : Dict[key ,Value] = {\n",
    "    \"fname\":\"Ali\",\n",
    "    \"name\":\"Ahmed\",\n",
    "    \"age\": \"34\"             # type: ignore\n",
    "}\n",
    "\n",
    "print(\"Before\", data)\n",
    "data.clear()\n",
    "print(\"After\",data)\n",
    "\n",
    "methods : list[str] = [m for m in dir(data) if \"__\" not in m]\n",
    "print(methods)"
   ]
  },
  {
   "cell_type": "code",
   "execution_count": 10,
   "metadata": {},
   "outputs": [
    {
     "name": "stdout",
     "output_type": "stream",
     "text": [
      "Before {'fname': 'Ali', 'name': 'Ahmed', 'age': '34'}\n"
     ]
    },
    {
     "ename": "NameError",
     "evalue": "name 'data' is not defined",
     "output_type": "error",
     "traceback": [
      "\u001b[1;31m---------------------------------------------------------------------------\u001b[0m",
      "\u001b[1;31mNameError\u001b[0m                                 Traceback (most recent call last)",
      "Cell \u001b[1;32mIn[10], line 15\u001b[0m\n\u001b[0;32m     13\u001b[0m \u001b[38;5;28mprint\u001b[39m(\u001b[38;5;124m\"\u001b[39m\u001b[38;5;124mBefore\u001b[39m\u001b[38;5;124m\"\u001b[39m, data)\n\u001b[0;32m     14\u001b[0m \u001b[38;5;28;01mdel\u001b[39;00m data\n\u001b[1;32m---> 15\u001b[0m \u001b[38;5;28mprint\u001b[39m(\u001b[38;5;124m\"\u001b[39m\u001b[38;5;124mAfter\u001b[39m\u001b[38;5;124m\"\u001b[39m,\u001b[43mdata\u001b[49m)\n\u001b[0;32m     17\u001b[0m methods : \u001b[38;5;28mlist\u001b[39m[\u001b[38;5;28mstr\u001b[39m] \u001b[38;5;241m=\u001b[39m [m \u001b[38;5;28;01mfor\u001b[39;00m m \u001b[38;5;129;01min\u001b[39;00m \u001b[38;5;28mdir\u001b[39m(data) \u001b[38;5;28;01mif\u001b[39;00m \u001b[38;5;124m\"\u001b[39m\u001b[38;5;124m__\u001b[39m\u001b[38;5;124m\"\u001b[39m \u001b[38;5;129;01mnot\u001b[39;00m \u001b[38;5;129;01min\u001b[39;00m m]\n\u001b[0;32m     18\u001b[0m \u001b[38;5;28mprint\u001b[39m(methods)\n",
      "\u001b[1;31mNameError\u001b[0m: name 'data' is not defined"
     ]
    }
   ],
   "source": [
    "from typing import Dict , Union , Optional\n",
    "import pprint\n",
    "\n",
    "key = Union[int,str ]\n",
    "Value = Union[int , str,list,dict,tuple, set]\n",
    "\n",
    "data : Dict[key ,Value] = {\n",
    "    \"fname\":\"Ali\",\n",
    "    \"name\":\"Ahmed\",\n",
    "    \"age\": \"34\"             # type: ignore\n",
    "}\n",
    "\n",
    "print(\"Before\", data)\n",
    "del data\n",
    "print(\"After\",data)\n",
    "\n",
    "methods : list[str] = [m for m in dir(data) if \"__\" not in m]\n",
    "print(methods)"
   ]
  },
  {
   "cell_type": "code",
   "execution_count": 11,
   "metadata": {},
   "outputs": [
    {
     "name": "stdout",
     "output_type": "stream",
     "text": [
      "Before {'fname': 'Ali', 'name': 'Ahmed', 'age': '34'}\n",
      "After {'fname': 'Ali', 'name': 'Ahmed'}\n",
      "['clear', 'copy', 'fromkeys', 'get', 'items', 'keys', 'pop', 'popitem', 'setdefault', 'update', 'values']\n"
     ]
    }
   ],
   "source": [
    "from typing import Dict , Union , Optional\n",
    "import pprint\n",
    "\n",
    "key = Union[int,str ]\n",
    "Value = Union[int , str,list,dict,tuple, set]\n",
    "\n",
    "data : Dict[key ,Value] = {\n",
    "    \"fname\":\"Ali\",\n",
    "    \"name\":\"Ahmed\",\n",
    "    \"age\": \"34\"             # type: ignore\n",
    "}\n",
    "\n",
    "print(\"Before\", data)\n",
    "data.pop(\"age\")               # remove age\n",
    "print(\"After\",data)\n",
    "\n",
    "methods : list[str] = [m for m in dir(data) if \"__\" not in m]\n",
    "print(methods)"
   ]
  },
  {
   "cell_type": "code",
   "execution_count": 12,
   "metadata": {},
   "outputs": [
    {
     "name": "stdout",
     "output_type": "stream",
     "text": [
      "Before {'fname': 'Ali', 'name': 'Ahmed', 'age': '34'}\n",
      "After {'fname': 'Ali', 'name': 'Ahmed'}\n",
      "['clear', 'copy', 'fromkeys', 'get', 'items', 'keys', 'pop', 'popitem', 'setdefault', 'update', 'values']\n"
     ]
    }
   ],
   "source": [
    "from typing import Dict , Union , Optional\n",
    "import pprint\n",
    "\n",
    "key = Union[int,str ]\n",
    "Value = Union[int , str,list,dict,tuple, set]\n",
    "\n",
    "data : Dict[key ,Value] = {\n",
    "    \"fname\":\"Ali\",\n",
    "    \"name\":\"Ahmed\",\n",
    "    \"age\": \"34\"             # type: ignore\n",
    "}\n",
    "\n",
    "print(\"Before\", data)\n",
    "\n",
    "data.popitem()\n",
    "\n",
    "print(\"After\",data)\n",
    "\n",
    "methods : list[str] = [m for m in dir(data) if \"__\" not in m]\n",
    "print(methods)"
   ]
  },
  {
   "cell_type": "code",
   "execution_count": 15,
   "metadata": {},
   "outputs": [
    {
     "name": "stdout",
     "output_type": "stream",
     "text": [
      "Before {'fname': 'Ali', 'name': 'Ahmed', 'age': '34'}\n",
      "None\n",
      "After {'fname': 'Ali', 'name': 'Ahmed', 'age': '34', 'Pakistan': None}\n",
      "['clear', 'copy', 'fromkeys', 'get', 'items', 'keys', 'pop', 'popitem', 'setdefault', 'update', 'values']\n"
     ]
    }
   ],
   "source": [
    "from typing import Dict , Union , Optional\n",
    "import pprint\n",
    "\n",
    "key = Union[int,str ]\n",
    "Value = Union[int , str,list,dict,tuple, set]\n",
    "\n",
    "data : Dict[key ,Value] = {\n",
    "    \"fname\":\"Ali\",\n",
    "    \"name\":\"Ahmed\",\n",
    "    \"age\": \"34\"             # type: ignore\n",
    "}\n",
    "\n",
    "print(\"Before\", data)\n",
    "\n",
    "a : str = data.setdefault(\"Pakistan\")             # pakistan naam ki key add ho gaye hai iss method sy\n",
    "print(a)\n",
    "\n",
    "print(\"After\",data)\n",
    "\n",
    "methods : list[str] = [m for m in dir(data) if \"__\" not in m]\n",
    "print(methods)"
   ]
  },
  {
   "cell_type": "code",
   "execution_count": 18,
   "metadata": {},
   "outputs": [
    {
     "data": {
      "text/plain": [
       "{'fname': 'Ali', 'name': 'Ali', 'age': 34, 'height': '6 Feet'}"
      ]
     },
     "execution_count": 18,
     "metadata": {},
     "output_type": "execute_result"
    }
   ],
   "source": [
    "from typing import Dict , Union , Optional\n",
    "import pprint\n",
    "\n",
    "key = Union[int,str ]\n",
    "Value = Union[int , str,list,dict,tuple, set]\n",
    "\n",
    "data : Dict[key ,Value] = {\n",
    "    \"fname\":\"Ali\",\n",
    "    \"name\":\"Ahmed\",\n",
    "    \"age\": \"34\"             \n",
    "}\n",
    "\n",
    "data1 : Dict[key,Value] = {\"name\":\"Ali\",  \"age\": 34 ,   \"height\":\"6 Feet\"}\n",
    "\n",
    "data.update(data1)\n",
    "\n",
    "data"
   ]
  },
  {
   "cell_type": "code",
   "execution_count": 22,
   "metadata": {},
   "outputs": [
    {
     "data": {
      "text/html": [
       "<div>\n",
       "<style scoped>\n",
       "    .dataframe tbody tr th:only-of-type {\n",
       "        vertical-align: middle;\n",
       "    }\n",
       "\n",
       "    .dataframe tbody tr th {\n",
       "        vertical-align: top;\n",
       "    }\n",
       "\n",
       "    .dataframe thead th {\n",
       "        text-align: right;\n",
       "    }\n",
       "</style>\n",
       "<table border=\"1\" class=\"dataframe\">\n",
       "  <thead>\n",
       "    <tr style=\"text-align: right;\">\n",
       "      <th></th>\n",
       "      <th>roll no</th>\n",
       "      <th>education</th>\n",
       "    </tr>\n",
       "  </thead>\n",
       "  <tbody>\n",
       "    <tr>\n",
       "      <th>0</th>\n",
       "      <td>1</td>\n",
       "      <td>dfg</td>\n",
       "    </tr>\n",
       "    <tr>\n",
       "      <th>1</th>\n",
       "      <td>2</td>\n",
       "      <td>ert</td>\n",
       "    </tr>\n",
       "    <tr>\n",
       "      <th>2</th>\n",
       "      <td>3</td>\n",
       "      <td>dfb</td>\n",
       "    </tr>\n",
       "  </tbody>\n",
       "</table>\n",
       "</div>"
      ],
      "text/plain": [
       "   roll no education\n",
       "0        1       dfg\n",
       "1        2       ert\n",
       "2        3       dfb"
      ]
     },
     "execution_count": 22,
     "metadata": {},
     "output_type": "execute_result"
    }
   ],
   "source": [
    "import pandas as pd\n",
    "from typing import Any\n",
    "\n",
    "students_data : Dict[str , list[Any]] = {\n",
    "    \"roll no\" : [1,2,3],\n",
    "    \"education\" : [\"dfg\" , \"ert\" , \"dfb\"],\n",
    "}\n",
    "df : pd.DataFrame =  pd.DataFrame(students_data)\n",
    "\n",
    "df"
   ]
  }
 ],
 "metadata": {
  "kernelspec": {
   "display_name": "python12",
   "language": "python",
   "name": "python3"
  },
  "language_info": {
   "codemirror_mode": {
    "name": "ipython",
    "version": 3
   },
   "file_extension": ".py",
   "mimetype": "text/x-python",
   "name": "python",
   "nbconvert_exporter": "python",
   "pygments_lexer": "ipython3",
   "version": "3.12.0"
  }
 },
 "nbformat": 4,
 "nbformat_minor": 2
}
