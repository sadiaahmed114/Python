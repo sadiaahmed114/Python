{
 "cells": [
  {
   "cell_type": "code",
   "execution_count": 1,
   "metadata": {},
   "outputs": [],
   "source": [
    "#List\n",
    "\n",
    "data:list[str] =[\"Ali\" , \"Ahmen\", \"Ahmer\"]"
   ]
  },
  {
   "cell_type": "markdown",
   "metadata": {},
   "source": [
    "# Dictionary\n",
    "* key : value(items)\n",
    "   * key replacement of indexes\n",
    "   * value item\n",
    "\n",
    "* dict_variable[key] \n",
    "   * dict_variable[new_key] = new_value\n",
    "      * add new value\n",
    "      * update value"
   ]
  },
  {
   "cell_type": "code",
   "execution_count": 1,
   "metadata": {},
   "outputs": [
    {
     "data": {
      "text/plain": [
       "{'fname': 'Ali', 'name': 'Ahmed', 'age': '34'}"
      ]
     },
     "metadata": {},
     "output_type": "display_data"
    }
   ],
   "source": [
    "from typing import Dict\n",
    "import pprint\n",
    "\n",
    "data : Dict[str ,str] = {\n",
    "    \"fname\":\"Ali\",\n",
    "    \"name\":\"Ahmed\",\n",
    "    \"age\": \"34\"\n",
    "}\n",
    "\n",
    "# pprint.pprint(data)\n",
    "\n",
    "display(data)"
   ]
  },
  {
   "cell_type": "code",
   "execution_count": 3,
   "metadata": {},
   "outputs": [
    {
     "name": "stdout",
     "output_type": "stream",
     "text": [
      "{'age': 34, 'fname': 'Ali', 'name': 'Ahmed'}\n"
     ]
    }
   ],
   "source": [
    "from typing import Dict , Union , Optional\n",
    "import pprint\n",
    "\n",
    "key = Union[int,str ]\n",
    "Value = Union[int , str,list,dict,tuple, set]\n",
    "\n",
    "data : Dict[key ,Value] = {\n",
    "    \"fname\":\"Ali\",\n",
    "    \"name\":\"Ahmed\",\n",
    "    \"age\": 34 # type: ignore\n",
    "}\n",
    "\n",
    "pprint.pprint(data)"
   ]
  },
  {
   "cell_type": "code",
   "execution_count": 4,
   "metadata": {},
   "outputs": [
    {
     "name": "stdout",
     "output_type": "stream",
     "text": [
      "{'age': 34, 'fname': 'Ali', 'name': 'Ahmed'}\n",
      "Ahmed\n"
     ]
    }
   ],
   "source": [
    "from typing import Dict , Union , Optional\n",
    "import pprint\n",
    "\n",
    "key = Union[int,str ]\n",
    "Value = Union[int , str,list,dict,tuple, set]\n",
    "\n",
    "data : Dict[key ,Value] = {\n",
    "    \"fname\":\"Ali\",\n",
    "    \"name\":\"Ahmed\",\n",
    "    \"age\": 34 # type: ignore\n",
    "}\n",
    "\n",
    "pprint.pprint(data)\n",
    "print(data[\"name\"])"
   ]
  },
  {
   "cell_type": "code",
   "execution_count": null,
   "metadata": {},
   "outputs": [],
   "source": []
  }
 ],
 "metadata": {
  "kernelspec": {
   "display_name": "python12",
   "language": "python",
   "name": "python3"
  },
  "language_info": {
   "codemirror_mode": {
    "name": "ipython",
    "version": 3
   },
   "file_extension": ".py",
   "mimetype": "text/x-python",
   "name": "python",
   "nbconvert_exporter": "python",
   "pygments_lexer": "ipython3",
   "version": "3.12.0"
  }
 },
 "nbformat": 4,
 "nbformat_minor": 2
}
