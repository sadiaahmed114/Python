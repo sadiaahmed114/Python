{
 "cells": [
  {
   "cell_type": "code",
   "execution_count": 1,
   "metadata": {},
   "outputs": [],
   "source": [
    "#List\n",
    "\n",
    "data:list[str] =[\"Ali\" , \"Ahmen\", \"Ahmer\"]"
   ]
  },
  {
   "cell_type": "markdown",
   "metadata": {},
   "source": [
    "# Dictionary\n",
    "* key : value(items)\n",
    "   * key replacement of indexes\n",
    "   * value item\n",
    "\n",
    "* dict_variable[key] \n",
    "   * dict_variable[new_key] = new_value\n",
    "      * add new value\n",
    "      * update value"
   ]
  },
  {
   "cell_type": "code",
   "execution_count": 1,
   "metadata": {},
   "outputs": [
    {
     "data": {
      "text/plain": [
       "{'fname': 'Ali', 'name': 'Ahmed', 'age': '34'}"
      ]
     },
     "metadata": {},
     "output_type": "display_data"
    }
   ],
   "source": [
    "from typing import Dict\n",
    "import pprint\n",
    "\n",
    "data : Dict[str ,str] = {\n",
    "    \"fname\":\"Ali\",\n",
    "    \"name\":\"Ahmed\",\n",
    "    \"age\": \"34\"\n",
    "}\n",
    "\n",
    "# pprint.pprint(data)\n",
    "\n",
    "display(data)"
   ]
  },
  {
   "cell_type": "code",
   "execution_count": 3,
   "metadata": {},
   "outputs": [
    {
     "name": "stdout",
     "output_type": "stream",
     "text": [
      "{'age': 34, 'fname': 'Ali', 'name': 'Ahmed'}\n"
     ]
    }
   ],
   "source": [
    "from typing import Dict , Union , Optional\n",
    "import pprint\n",
    "\n",
    "key = Union[int,str ]\n",
    "Value = Union[int , str,list,dict,tuple, set]\n",
    "\n",
    "data : Dict[key ,Value] = {\n",
    "    \"fname\":\"Ali\",\n",
    "    \"name\":\"Ahmed\",\n",
    "    \"age\": 34 # type: ignore\n",
    "}\n",
    "\n",
    "pprint.pprint(data)"
   ]
  },
  {
   "cell_type": "code",
   "execution_count": 4,
   "metadata": {},
   "outputs": [
    {
     "name": "stdout",
     "output_type": "stream",
     "text": [
      "{'age': 34, 'fname': 'Ali', 'name': 'Ahmed'}\n",
      "Ahmed\n"
     ]
    }
   ],
   "source": [
    "from typing import Dict , Union , Optional\n",
    "import pprint\n",
    "\n",
    "key = Union[int,str ]\n",
    "Value = Union[int , str,list,dict,tuple, set]\n",
    "\n",
    "data : Dict[key ,Value] = {\n",
    "    \"fname\":\"Ali\",\n",
    "    \"name\":\"Ahmed\",\n",
    "    \"age\": 34 # type: ignore\n",
    "}\n",
    "\n",
    "pprint.pprint(data)\n",
    "print(data[\"name\"])"
   ]
  },
  {
   "cell_type": "code",
   "execution_count": 5,
   "metadata": {},
   "outputs": [
    {
     "name": "stdout",
     "output_type": "stream",
     "text": [
      "{1, 2, 3, 5, 7, 9}\n"
     ]
    }
   ],
   "source": [
    "# Set\n",
    "data : set ={5,7,2,1,9,5,7,3}\n",
    "print(data)    #return unique"
   ]
  },
  {
   "cell_type": "code",
   "execution_count": 6,
   "metadata": {},
   "outputs": [
    {
     "data": {
      "text/plain": [
       "['add',\n",
       " 'clear',\n",
       " 'copy',\n",
       " 'difference',\n",
       " 'difference_update',\n",
       " 'discard',\n",
       " 'intersection',\n",
       " 'intersection_update',\n",
       " 'isdisjoint',\n",
       " 'issubset',\n",
       " 'issuperset',\n",
       " 'pop',\n",
       " 'remove',\n",
       " 'symmetric_difference',\n",
       " 'symmetric_difference_update',\n",
       " 'union',\n",
       " 'update']"
      ]
     },
     "execution_count": 6,
     "metadata": {},
     "output_type": "execute_result"
    }
   ],
   "source": [
    "[i for i in dir(data) if \"__\" not in i]\n",
    " \n",
    "#  ye sb  method r attributes hain jo hum set main use hkerty hain"
   ]
  },
  {
   "cell_type": "code",
   "execution_count": 7,
   "metadata": {},
   "outputs": [
    {
     "name": "stdout",
     "output_type": "stream",
     "text": [
      "{'name': 'Ali ', 'fname': 'Ahmed '}\n"
     ]
    }
   ],
   "source": [
    "from typing import Dict , Union , Optional\n",
    "import pprint\n",
    "\n",
    "key = Union[int,str ]         # create custom type\n",
    "Value = Union[int , str,list,dict,tuple, set]\n",
    "\n",
    "data :dict[key , Value] ={}\n",
    "\n",
    "#  iss main hum assign operator k zerye value add ker rahy hain \n",
    "\n",
    "data['name'] = \"Ali \"\n",
    "data['fname'] = \"Ahmed \"\n",
    "\n",
    "print(data)\n",
    "# add new key and value bhi kersekty hain assign operator sy \n",
    "#  r update bhi ker sekty hain"
   ]
  },
  {
   "cell_type": "code",
   "execution_count": 8,
   "metadata": {},
   "outputs": [
    {
     "ename": "KeyError",
     "evalue": "'Pakistan'",
     "output_type": "error",
     "traceback": [
      "\u001b[1;31m---------------------------------------------------------------------------\u001b[0m",
      "\u001b[1;31mKeyError\u001b[0m                                  Traceback (most recent call last)",
      "Cell \u001b[1;32mIn[8], line 13\u001b[0m\n\u001b[0;32m      5\u001b[0m Value \u001b[38;5;241m=\u001b[39m Union[\u001b[38;5;28mint\u001b[39m , \u001b[38;5;28mstr\u001b[39m,\u001b[38;5;28mlist\u001b[39m,\u001b[38;5;28mdict\u001b[39m,\u001b[38;5;28mtuple\u001b[39m, \u001b[38;5;28mset\u001b[39m]\n\u001b[0;32m      7\u001b[0m data : Dict[key ,Value] \u001b[38;5;241m=\u001b[39m {\n\u001b[0;32m      8\u001b[0m     \u001b[38;5;124m\"\u001b[39m\u001b[38;5;124mfname\u001b[39m\u001b[38;5;124m\"\u001b[39m:\u001b[38;5;124m\"\u001b[39m\u001b[38;5;124mAli\u001b[39m\u001b[38;5;124m\"\u001b[39m,\n\u001b[0;32m      9\u001b[0m     \u001b[38;5;124m\"\u001b[39m\u001b[38;5;124mname\u001b[39m\u001b[38;5;124m\"\u001b[39m:\u001b[38;5;124m\"\u001b[39m\u001b[38;5;124mAhmed\u001b[39m\u001b[38;5;124m\"\u001b[39m,\n\u001b[0;32m     10\u001b[0m     \u001b[38;5;124m\"\u001b[39m\u001b[38;5;124mage\u001b[39m\u001b[38;5;124m\"\u001b[39m: \u001b[38;5;241m34\u001b[39m \u001b[38;5;66;03m# type: ignore\u001b[39;00m\n\u001b[0;32m     11\u001b[0m }\n\u001b[1;32m---> 13\u001b[0m \u001b[38;5;28mprint\u001b[39m(\u001b[43mdata\u001b[49m\u001b[43m[\u001b[49m\u001b[38;5;124;43m'\u001b[39;49m\u001b[38;5;124;43mPakistan\u001b[39;49m\u001b[38;5;124;43m'\u001b[39;49m\u001b[43m]\u001b[49m)\n\u001b[0;32m     15\u001b[0m [i \u001b[38;5;28;01mfor\u001b[39;00m i \u001b[38;5;129;01min\u001b[39;00m \u001b[38;5;28mdir\u001b[39m(data) \u001b[38;5;28;01mif\u001b[39;00m \u001b[38;5;124m\"\u001b[39m\u001b[38;5;124m__\u001b[39m\u001b[38;5;124m\"\u001b[39m \u001b[38;5;129;01mnot\u001b[39;00m \u001b[38;5;129;01min\u001b[39;00m i]\n",
      "\u001b[1;31mKeyError\u001b[0m: 'Pakistan'"
     ]
    }
   ],
   "source": [
    "from typing import Dict , Union , Optional\n",
    "import pprint\n",
    "\n",
    "key = Union[int,str ]\n",
    "Value = Union[int , str,list,dict,tuple, set]\n",
    "\n",
    "data : Dict[key ,Value] = {\n",
    "    \"fname\":\"Ali\",\n",
    "    \"name\":\"Ahmed\",\n",
    "    \"age\": 34 # type: ignore\n",
    "}\n",
    "\n",
    "print(data['Pakistan'])\n",
    "\n",
    "[i for i in dir(data) if \"__\" not in i]"
   ]
  },
  {
   "cell_type": "code",
   "execution_count": 12,
   "metadata": {},
   "outputs": [
    {
     "name": "stdout",
     "output_type": "stream",
     "text": [
      "None\n"
     ]
    },
    {
     "data": {
      "text/plain": [
       "['clear',\n",
       " 'copy',\n",
       " 'fromkeys',\n",
       " 'get',\n",
       " 'items',\n",
       " 'keys',\n",
       " 'pop',\n",
       " 'popitem',\n",
       " 'setdefault',\n",
       " 'update',\n",
       " 'values']"
      ]
     },
     "execution_count": 12,
     "metadata": {},
     "output_type": "execute_result"
    }
   ],
   "source": [
    "from typing import Dict , Union , Optional\n",
    "import pprint\n",
    "\n",
    "key = Union[int,str ]\n",
    "Value = Union[int , str,list,dict,tuple, set]\n",
    "\n",
    "data : Dict[key ,Value] = {\n",
    "    \"fname\":\"Ali\",\n",
    "    \"name\":\"Ahmed\",\n",
    "    \"age\": 34 # type: ignore\n",
    "}\n",
    "#                key\n",
    "# print(data.get('Pakistan' , \"NA\"))\n",
    "print(data.get('Pakistan'))\n",
    "[i for i in dir(data) if \"__\" not in i]"
   ]
  },
  {
   "cell_type": "code",
   "execution_count": 13,
   "metadata": {},
   "outputs": [
    {
     "name": "stdout",
     "output_type": "stream",
     "text": [
      "fname\n",
      "name\n",
      "age\n"
     ]
    }
   ],
   "source": [
    "from typing import Dict , Union , Optional\n",
    "import pprint\n",
    "\n",
    "key = Union[int,str ]\n",
    "Value = Union[int , str,list,dict,tuple, set]\n",
    "\n",
    "data : Dict[key ,Value] = {\n",
    "    \"fname\":\"Ali\",\n",
    "    \"name\":\"Ahmed\",\n",
    "    \"age\": 34 # type: ignore\n",
    "}\n",
    "\n",
    "for d in data:\n",
    "    print(d)            # keys"
   ]
  },
  {
   "cell_type": "code",
   "execution_count": 15,
   "metadata": {},
   "outputs": [
    {
     "name": "stdout",
     "output_type": "stream",
     "text": [
      "dict_keys(['fname', 'name', 'age'])\n",
      "dict_values(['Ali', 'Ahmed', 34])\n",
      "dict_items([('fname', 'Ali'), ('name', 'Ahmed'), ('age', 34)])\n"
     ]
    }
   ],
   "source": [
    "from typing import Dict , Union , Optional\n",
    "import pprint\n",
    "\n",
    "key = Union[int,str ]\n",
    "Value = Union[int , str,list,dict,tuple, set]\n",
    "\n",
    "data : Dict[key ,Value] = {\n",
    "    \"fname\":\"Ali\",\n",
    "    \"name\":\"Ahmed\",\n",
    "    \"age\": 34 # type: ignore\n",
    "}\n",
    "\n",
    "print(data.keys())\n",
    "print(data.values())\n",
    "print(data.items())              #tuple"
   ]
  },
  {
   "cell_type": "code",
   "execution_count": 16,
   "metadata": {},
   "outputs": [
    {
     "name": "stdout",
     "output_type": "stream",
     "text": [
      "dict_keys(['fname', 'name', 'age'])\n",
      "dict_values(['Ali', 'Ahmed', 34])\n",
      "dict_items([('fname', 'Ali'), ('name', 'Ahmed'), ('age', 34)])\n",
      "Ali\n",
      "Ahmed\n",
      "34\n"
     ]
    }
   ],
   "source": [
    "from typing import Dict , Union , Optional\n",
    "import pprint\n",
    "\n",
    "key = Union[int,str ]\n",
    "Value = Union[int , str,list,dict,tuple, set]\n",
    "\n",
    "data : Dict[key ,Value] = {\n",
    "    \"fname\":\"Ali\",\n",
    "    \"name\":\"Ahmed\",\n",
    "    \"age\": 34 # type: ignore\n",
    "}\n",
    "\n",
    "print(data.keys())\n",
    "print(data.values())\n",
    "print(data.items())   \n",
    "\n",
    "for v  in data .values():\n",
    "    print(v)"
   ]
  }
 ],
 "metadata": {
  "kernelspec": {
   "display_name": "python12",
   "language": "python",
   "name": "python3"
  },
  "language_info": {
   "codemirror_mode": {
    "name": "ipython",
    "version": 3
   },
   "file_extension": ".py",
   "mimetype": "text/x-python",
   "name": "python",
   "nbconvert_exporter": "python",
   "pygments_lexer": "ipython3",
   "version": "3.12.0"
  }
 },
 "nbformat": 4,
 "nbformat_minor": 2
}
