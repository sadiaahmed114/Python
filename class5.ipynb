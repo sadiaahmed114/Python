{
 "cells": [
  {
   "cell_type": "markdown",
   "metadata": {},
   "source": [
    "List\n",
    "* iteration operation with loop \n",
    "* apply any operation on element \n"
   ]
  },
  {
   "cell_type": "code",
   "execution_count": 3,
   "metadata": {},
   "outputs": [
    {
     "name": "stdout",
     "output_type": "stream",
     "text": [
      "Sir Zia \n",
      "Sir Qasim\n",
      "Sir Ameen Alam\n"
     ]
    }
   ],
   "source": [
    "# how to perform iteration\n",
    "\n",
    "names: list[str] = [\"Sir Zia \", \"Sir Qasim\" ,\"Sir Ameen Alam\"]\n",
    "\n",
    "for name in names:\n",
    "  print(name)\n"
   ]
  },
  {
   "cell_type": "code",
   "execution_count": 4,
   "metadata": {},
   "outputs": [
    {
     "name": "stdout",
     "output_type": "stream",
     "text": [
      "Welcome teacher Sir Zia \n",
      "Welcome teacher Sir Qasim\n",
      "Welcome teacher Sir Ameen Alam\n"
     ]
    }
   ],
   "source": [
    "names: list[str] = [\"Sir Zia \", \"Sir Qasim\" ,\"Sir Ameen Alam\"]\n",
    "\n",
    "for name in names:\n",
    "  print(f'Welcome teacher {name.title()}')\n"
   ]
  },
  {
   "cell_type": "code",
   "execution_count": 5,
   "metadata": {},
   "outputs": [
    {
     "name": "stdout",
     "output_type": "stream",
     "text": [
      "Welcome teacher Sir Zia \n",
      "PIAIC Gen AI\n",
      "\n",
      "Welcome teacher Sir Qasim\n",
      "PIAIC Gen AI\n",
      "\n",
      "Welcome teacher Sir Ameen Alam\n",
      "PIAIC Gen AI\n",
      "\n"
     ]
    }
   ],
   "source": [
    "names: list[str] = [\"Sir Zia \", \"Sir Qasim\" ,\"Sir Ameen Alam\"]\n",
    "\n",
    "for name in names:\n",
    "   print(f'Welcome teacher {name.title()}')\n",
    "   print(\"PIAIC Gen AI\\n\") "
   ]
  },
  {
   "cell_type": "code",
   "execution_count": 6,
   "metadata": {},
   "outputs": [
    {
     "name": "stdout",
     "output_type": "stream",
     "text": [
      "Welcome teacher Sir Zia \n",
      "PIAIC Gen AI\n",
      "\n",
      "Welcome teacher Sir Qasim\n",
      "PIAIC Gen AI\n",
      "\n",
      "Welcome teacher Sir Ameen Alam\n",
      "PIAIC Gen AI\n",
      "\n",
      "Hello\n"
     ]
    }
   ],
   "source": [
    "names: list[str] = [\"Sir Zia \", \"Sir Qasim\" ,\"Sir Ameen Alam\"]\n",
    "\n",
    "for name in names:\n",
    "   print(f'Welcome teacher {name.title()}')\n",
    "   print(\"PIAIC Gen AI\\n\") \n",
    "\n",
    "print(\"Hello\")"
   ]
  },
  {
   "cell_type": "code",
   "execution_count": 7,
   "metadata": {},
   "outputs": [
    {
     "name": "stdout",
     "output_type": "stream",
     "text": [
      "('qasim', '123')\n",
      "('ali', '345')\n",
      "('ahmed', '12567')\n"
     ]
    }
   ],
   "source": [
    "data_base : list[tuple[str,str]] =[(\"qasim\",'123'),\n",
    "                                   (\"ali\",'345'),\n",
    "                                   (\"ahmed\",'12567')]\n",
    "\n",
    "for row in data_base:\n",
    "    print(row)"
   ]
  },
  {
   "cell_type": "code",
   "execution_count": 8,
   "metadata": {},
   "outputs": [
    {
     "name": "stdout",
     "output_type": "stream",
     "text": [
      "qasim 123\n",
      "ali 345\n",
      "ahmed 12567\n"
     ]
    }
   ],
   "source": [
    "data_base : list[tuple[str,str]] =[(\"qasim\",'123'),\n",
    "                                   (\"ali\",'345'),\n",
    "                                   (\"ahmed\",'12567')]\n",
    "\n",
    "for row in data_base:\n",
    "    user , password= row\n",
    "    print(user , password)"
   ]
  },
  {
   "cell_type": "code",
   "execution_count": 1,
   "metadata": {},
   "outputs": [],
   "source": [
    "data_base : list[tuple[str,str]] =[(\"qasim\",'123'),\n",
    "                                   (\"ali\",'345'),\n",
    "                                   (\"ahmed\",'12567')]\n",
    "\n",
    "input_user: str = input(\"Enter user name\")\n",
    "input_password: str = input(\"Enter user password\")\n",
    "\n",
    "for row in data_base:\n",
    "    user , password= row\n",
    "    if input_user == user and input_password == password:\n",
    "        print(\"Valid User\")\n",
    "        break\n"
   ]
  },
  {
   "cell_type": "code",
   "execution_count": 2,
   "metadata": {},
   "outputs": [
    {
     "name": "stdout",
     "output_type": "stream",
     "text": [
      "invalid User \n"
     ]
    }
   ],
   "source": [
    "data_base : list[tuple[str,str]] =[(\"qasim\",'123'),\n",
    "                                   (\"ali\",'345'),\n",
    "                                   (\"ahmed\",'12567')]\n",
    "\n",
    "input_user: str = input(\"Enter user name\")\n",
    "input_password: str = input(\"Enter user password\")\n",
    "\n",
    "for row in data_base:\n",
    "    user , password= row\n",
    "    if input_user == user and input_password == password:\n",
    "        print(\"Valid User\") \n",
    "        break\n",
    "else:\n",
    "    print(\"invalid User \")\n"
   ]
  },
  {
   "cell_type": "markdown",
   "metadata": {},
   "source": [
    "Number with Loop \n",
    "* range(start, end , step)\n"
   ]
  },
  {
   "cell_type": "code",
   "execution_count": 3,
   "metadata": {},
   "outputs": [
    {
     "data": {
      "text/plain": [
       "range(0, 10)"
      ]
     },
     "execution_count": 3,
     "metadata": {},
     "output_type": "execute_result"
    }
   ],
   "source": [
    "range(10)\n",
    "# ye generator function hota hai "
   ]
  },
  {
   "cell_type": "code",
   "execution_count": 4,
   "metadata": {},
   "outputs": [
    {
     "data": {
      "text/plain": [
       "[0, 1, 2, 3, 4, 5, 6, 7, 8, 9]"
      ]
     },
     "execution_count": 4,
     "metadata": {},
     "output_type": "execute_result"
    }
   ],
   "source": [
    "list (range(10))             # starting =0 , ending = n-1"
   ]
  },
  {
   "cell_type": "code",
   "execution_count": 7,
   "metadata": {},
   "outputs": [
    {
     "data": {
      "text/plain": [
       "[2, 4, 6, 8, 10, 12, 14, 16, 18, 20]"
      ]
     },
     "execution_count": 7,
     "metadata": {},
     "output_type": "execute_result"
    }
   ],
   "source": [
    "list (range(2,21,2))             "
   ]
  },
  {
   "cell_type": "code",
   "execution_count": 8,
   "metadata": {},
   "outputs": [
    {
     "data": {
      "text/plain": [
       "[(0, 'alice'), (1, 'david'), (2, 'carolina')]"
      ]
     },
     "execution_count": 8,
     "metadata": {},
     "output_type": "execute_result"
    }
   ],
   "source": [
    "#               0         1          2\n",
    "magicians = ['alice' , 'david', 'carolina']\n",
    "\n",
    "list(enumerate(magicians))"
   ]
  },
  {
   "cell_type": "code",
   "execution_count": 9,
   "metadata": {},
   "outputs": [
    {
     "name": "stdout",
     "output_type": "stream",
     "text": [
      "0 alice\n",
      "1 david\n",
      "2 carolina\n"
     ]
    }
   ],
   "source": [
    "#               0         1          2\n",
    "magicians = ['alice' , 'david', 'carolina']\n",
    "\n",
    "for index, name in enumerate(magicians):\n",
    "    print(index,name)"
   ]
  },
  {
   "cell_type": "code",
   "execution_count": 10,
   "metadata": {},
   "outputs": [
    {
     "name": "stdout",
     "output_type": "stream",
     "text": [
      "1\n",
      "2\n",
      "3\n",
      "4\n",
      "5\n",
      "6\n",
      "7\n",
      "8\n",
      "9\n",
      "10\n"
     ]
    }
   ],
   "source": [
    "for n  in range(1,11):\n",
    "    print(n)"
   ]
  },
  {
   "cell_type": "code",
   "execution_count": 11,
   "metadata": {},
   "outputs": [
    {
     "name": "stdout",
     "output_type": "stream",
     "text": [
      "2 X 1 = 2\n",
      "2 X 2 = 4\n",
      "2 X 3 = 6\n",
      "2 X 4 = 8\n",
      "2 X 5 = 10\n",
      "2 X 6 = 12\n",
      "2 X 7 = 14\n",
      "2 X 8 = 16\n",
      "2 X 9 = 18\n",
      "2 X 10 = 20\n"
     ]
    }
   ],
   "source": [
    "for n  in range(1,11):\n",
    "    print(f\"{2} X {n} = {n*2}\")"
   ]
  },
  {
   "cell_type": "code",
   "execution_count": 12,
   "metadata": {},
   "outputs": [
    {
     "name": "stdout",
     "output_type": "stream",
     "text": [
      "[1, 4, 9, 16, 25, 36, 49, 64, 81, 100]\n"
     ]
    }
   ],
   "source": [
    "squares : list[int] = []\n",
    "for value in range(1,11):\n",
    "    square =  value ** 2\n",
    "    squares.append(square)\n",
    "print(squares)    "
   ]
  },
  {
   "cell_type": "markdown",
   "metadata": {},
   "source": [
    "List Comprehensive\n",
    "\n",
    "        for item in items_list:\n",
    "           loop_body\n",
    "\n",
    "Comprehensive Style\n",
    "\n",
    "    [loop_body for item in items_list]           \n"
   ]
  },
  {
   "cell_type": "code",
   "execution_count": 13,
   "metadata": {},
   "outputs": [
    {
     "data": {
      "text/plain": [
       "[1, 2, 3, 4, 5, 6, 7, 8, 9, 10]"
      ]
     },
     "execution_count": 13,
     "metadata": {},
     "output_type": "execute_result"
    }
   ],
   "source": [
    "list (range(1,11))"
   ]
  },
  {
   "cell_type": "code",
   "execution_count": 15,
   "metadata": {},
   "outputs": [
    {
     "name": "stdout",
     "output_type": "stream",
     "text": [
      "1\n",
      "4\n",
      "9\n",
      "16\n",
      "25\n",
      "36\n",
      "49\n",
      "64\n",
      "81\n",
      "100\n"
     ]
    }
   ],
   "source": [
    "for i in range(1,11):\n",
    "    print(i**2)"
   ]
  },
  {
   "cell_type": "code",
   "execution_count": 16,
   "metadata": {},
   "outputs": [
    {
     "data": {
      "text/plain": [
       "[1, 4, 9, 16, 25, 36, 49, 64, 81, 100]"
      ]
     },
     "execution_count": 16,
     "metadata": {},
     "output_type": "execute_result"
    }
   ],
   "source": [
    "[ i**2 for i in range(1,11)]"
   ]
  },
  {
   "cell_type": "code",
   "execution_count": 18,
   "metadata": {},
   "outputs": [
    {
     "name": "stdout",
     "output_type": "stream",
     "text": [
      "[1, 2, 3, 4, 5, 6, 7, 8, 9, 0]\n",
      "9\n",
      "0\n",
      "45\n"
     ]
    }
   ],
   "source": [
    "digits: list [int]=[1,2,3,4,5,6,7,8,9,0]\n",
    "\n",
    "print(digits)\n",
    "print(max(digits))\n",
    "print(min(digits))\n",
    "print(sum(digits))"
   ]
  },
  {
   "cell_type": "markdown",
   "metadata": {},
   "source": [
    "Tuples\n"
   ]
  },
  {
   "cell_type": "code",
   "execution_count": 19,
   "metadata": {},
   "outputs": [
    {
     "name": "stdout",
     "output_type": "stream",
     "text": [
      "A\n",
      "('A', 'B')\n"
     ]
    }
   ],
   "source": [
    "names:tuple[str]= ('A','B','C')\n",
    "print(names[0])\n",
    "print(names[0:2])"
   ]
  },
  {
   "cell_type": "code",
   "execution_count": 21,
   "metadata": {},
   "outputs": [
    {
     "name": "stdout",
     "output_type": "stream",
     "text": [
      "('Pakistan', '', 'C')\n"
     ]
    }
   ],
   "source": [
    "names:tuple[str]= ('A',\"B\",'C')\n",
    "\n",
    "names:tuple[str]= ('Pakistan',\"B\",'C')\n",
    "print(names)"
   ]
  },
  {
   "cell_type": "code",
   "execution_count": 23,
   "metadata": {},
   "outputs": [
    {
     "name": "stdout",
     "output_type": "stream",
     "text": [
      "[1, 2, 3]\n",
      "('A', [1, 2, 3, 20], True)\n"
     ]
    }
   ],
   "source": [
    "from typing import Any\n",
    "\n",
    "\n",
    "data : tuple[Any] = (\"A\", [1,2,3] ,True)\n",
    "\n",
    "print(data[1])\n",
    "data[1].append(20)\n",
    "print(data)\n"
   ]
  }
 ],
 "metadata": {
  "kernelspec": {
   "display_name": "python12",
   "language": "python",
   "name": "python3"
  },
  "language_info": {
   "codemirror_mode": {
    "name": "ipython",
    "version": 3
   },
   "file_extension": ".py",
   "mimetype": "text/x-python",
   "name": "python",
   "nbconvert_exporter": "python",
   "pygments_lexer": "ipython3",
   "version": "3.12.0"
  }
 },
 "nbformat": 4,
 "nbformat_minor": 2
}
