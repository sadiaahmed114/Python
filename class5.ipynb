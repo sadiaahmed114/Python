{
 "cells": [
  {
   "cell_type": "markdown",
   "metadata": {},
   "source": [
    "List\n",
    "* iteration operation with loop \n",
    "* apply any operation on element \n"
   ]
  },
  {
   "cell_type": "code",
   "execution_count": 3,
   "metadata": {},
   "outputs": [
    {
     "name": "stdout",
     "output_type": "stream",
     "text": [
      "Sir Zia \n",
      "Sir Qasim\n",
      "Sir Ameen Alam\n"
     ]
    }
   ],
   "source": [
    "# how to perform iteration\n",
    "\n",
    "names: list[str] = [\"Sir Zia \", \"Sir Qasim\" ,\"Sir Ameen Alam\"]\n",
    "\n",
    "for name in names:\n",
    "  print(name)\n"
   ]
  },
  {
   "cell_type": "code",
   "execution_count": 4,
   "metadata": {},
   "outputs": [
    {
     "name": "stdout",
     "output_type": "stream",
     "text": [
      "Welcome teacher Sir Zia \n",
      "Welcome teacher Sir Qasim\n",
      "Welcome teacher Sir Ameen Alam\n"
     ]
    }
   ],
   "source": [
    "names: list[str] = [\"Sir Zia \", \"Sir Qasim\" ,\"Sir Ameen Alam\"]\n",
    "\n",
    "for name in names:\n",
    "  print(f'Welcome teacher {name.title()}')\n"
   ]
  },
  {
   "cell_type": "code",
   "execution_count": 5,
   "metadata": {},
   "outputs": [
    {
     "name": "stdout",
     "output_type": "stream",
     "text": [
      "Welcome teacher Sir Zia \n",
      "PIAIC Gen AI\n",
      "\n",
      "Welcome teacher Sir Qasim\n",
      "PIAIC Gen AI\n",
      "\n",
      "Welcome teacher Sir Ameen Alam\n",
      "PIAIC Gen AI\n",
      "\n"
     ]
    }
   ],
   "source": [
    "names: list[str] = [\"Sir Zia \", \"Sir Qasim\" ,\"Sir Ameen Alam\"]\n",
    "\n",
    "for name in names:\n",
    "   print(f'Welcome teacher {name.title()}')\n",
    "   print(\"PIAIC Gen AI\\n\") "
   ]
  },
  {
   "cell_type": "code",
   "execution_count": 6,
   "metadata": {},
   "outputs": [
    {
     "name": "stdout",
     "output_type": "stream",
     "text": [
      "Welcome teacher Sir Zia \n",
      "PIAIC Gen AI\n",
      "\n",
      "Welcome teacher Sir Qasim\n",
      "PIAIC Gen AI\n",
      "\n",
      "Welcome teacher Sir Ameen Alam\n",
      "PIAIC Gen AI\n",
      "\n",
      "Hello\n"
     ]
    }
   ],
   "source": [
    "names: list[str] = [\"Sir Zia \", \"Sir Qasim\" ,\"Sir Ameen Alam\"]\n",
    "\n",
    "for name in names:\n",
    "   print(f'Welcome teacher {name.title()}')\n",
    "   print(\"PIAIC Gen AI\\n\") \n",
    "\n",
    "print(\"Hello\")"
   ]
  },
  {
   "cell_type": "code",
   "execution_count": 7,
   "metadata": {},
   "outputs": [
    {
     "name": "stdout",
     "output_type": "stream",
     "text": [
      "('qasim', '123')\n",
      "('ali', '345')\n",
      "('ahmed', '12567')\n"
     ]
    }
   ],
   "source": [
    "data_base : list[tuple[str,str]] =[(\"qasim\",'123'),\n",
    "                                   (\"ali\",'345'),\n",
    "                                   (\"ahmed\",'12567')]\n",
    "\n",
    "for row in data_base:\n",
    "    print(row)"
   ]
  },
  {
   "cell_type": "code",
   "execution_count": 8,
   "metadata": {},
   "outputs": [
    {
     "name": "stdout",
     "output_type": "stream",
     "text": [
      "qasim 123\n",
      "ali 345\n",
      "ahmed 12567\n"
     ]
    }
   ],
   "source": [
    "data_base : list[tuple[str,str]] =[(\"qasim\",'123'),\n",
    "                                   (\"ali\",'345'),\n",
    "                                   (\"ahmed\",'12567')]\n",
    "\n",
    "for row in data_base:\n",
    "    user , password= row\n",
    "    print(user , password)"
   ]
  },
  {
   "cell_type": "code",
   "execution_count": 1,
   "metadata": {},
   "outputs": [],
   "source": [
    "data_base : list[tuple[str,str]] =[(\"qasim\",'123'),\n",
    "                                   (\"ali\",'345'),\n",
    "                                   (\"ahmed\",'12567')]\n",
    "\n",
    "input_user: str = input(\"Enter user name\")\n",
    "input_password: str = input(\"Enter user password\")\n",
    "\n",
    "for row in data_base:\n",
    "    user , password= row\n",
    "    if input_user == user and input_password == password:\n",
    "        print(\"Valid User\")\n",
    "        break\n"
   ]
  },
  {
   "cell_type": "code",
   "execution_count": 2,
   "metadata": {},
   "outputs": [
    {
     "name": "stdout",
     "output_type": "stream",
     "text": [
      "invalid User \n"
     ]
    }
   ],
   "source": [
    "data_base : list[tuple[str,str]] =[(\"qasim\",'123'),\n",
    "                                   (\"ali\",'345'),\n",
    "                                   (\"ahmed\",'12567')]\n",
    "\n",
    "input_user: str = input(\"Enter user name\")\n",
    "input_password: str = input(\"Enter user password\")\n",
    "\n",
    "for row in data_base:\n",
    "    user , password= row\n",
    "    if input_user == user and input_password == password:\n",
    "        print(\"Valid User\")\n",
    "        break\n",
    "else:\n",
    "    print(\"invalid User \")\n"
   ]
  }
 ],
 "metadata": {
  "kernelspec": {
   "display_name": "python12",
   "language": "python",
   "name": "python3"
  },
  "language_info": {
   "codemirror_mode": {
    "name": "ipython",
    "version": 3
   },
   "file_extension": ".py",
   "mimetype": "text/x-python",
   "name": "python",
   "nbconvert_exporter": "python",
   "pygments_lexer": "ipython3",
   "version": "3.12.0"
  }
 },
 "nbformat": 4,
 "nbformat_minor": 2
}
