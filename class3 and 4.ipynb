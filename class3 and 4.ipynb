{
 "cells": [
  {
   "cell_type": "code",
   "execution_count": 1,
   "metadata": {},
   "outputs": [],
   "source": [
    "name1: str = \"sadia \"\n",
    "name2: str = \"ayan \"\n",
    "name3: str = \"shaheer\" "
   ]
  },
  {
   "cell_type": "markdown",
   "metadata": {},
   "source": [
    "List\n",
    "* list ki dynamic length hoti hai\n",
    "* hetrogeneous data type rakhsekty hain (multiple store ker sekty hain)\n",
    "* Index :\n",
    "     * positive 0 to n-1\n",
    "     * negative -1 to length\n"
   ]
  },
  {
   "cell_type": "code",
   "execution_count": 2,
   "metadata": {},
   "outputs": [
    {
     "name": "stdout",
     "output_type": "stream",
     "text": [
      "Qasim\n",
      " Ali\n"
     ]
    }
   ],
   "source": [
    " # ye purana tareeqa hai............\n",
    "\n",
    "# -> indexing left to right : \n",
    "# ->      0         1       2 \n",
    "name = [\"Qasim\" , \" Ali\", \"Ayan\"]\n",
    "# -> indexing right to left: \n",
    "# ->           -3          -2         -1\n",
    "\n",
    "print(name[0])\n",
    "print(name[-2])\n"
   ]
  },
  {
   "cell_type": "code",
   "execution_count": 4,
   "metadata": {},
   "outputs": [
    {
     "name": "stdout",
     "output_type": "stream",
     "text": [
      "Hello Ayan \n",
      "<class 'list'>\n"
     ]
    }
   ],
   "source": [
    "# new tareeqa ........\n",
    "from typing import Any \n",
    "# -> Left to right\n",
    "name : list[Any] = [\"Ali\", \"Ayan \",\"shaheer\"]\n",
    "#<-  right to left\n",
    "\n",
    "print(f'Hello {name[-2]}')\n",
    "print(type(name))\n",
    "# hum iss main koi bhi data type add ker sekty hain "
   ]
  },
  {
   "cell_type": "markdown",
   "metadata": {},
   "source": [
    "Slicing Means ...Rnge \n",
    "      \n",
    "      * start : int = include\n",
    "      * end   : int = n-1  \n",
    "      * step   : int = sequence\n"
   ]
  },
  {
   "cell_type": "code",
   "execution_count": 5,
   "metadata": {},
   "outputs": [
    {
     "name": "stdout",
     "output_type": "stream",
     "text": [
      "['A', 'S', 'D', 'F', 'G', 'H', 'J', 'K', 'L', 'P', 'O', 'I', 'U', 'Y', 'T', 'R', 'E', 'W', 'Q', 'Z', 'X', 'C', 'V', 'B', 'N', 'M']\n"
     ]
    }
   ],
   "source": [
    "characters : list[str] =list(\"ASDFGHJKLPOIUYTREWQZXCVBNM\")\n",
    "print(characters)"
   ]
  },
  {
   "cell_type": "code",
   "execution_count": 9,
   "metadata": {},
   "outputs": [
    {
     "name": "stdout",
     "output_type": "stream",
     "text": [
      "['A', 'S']\n",
      "['A', 'S']\n",
      "['A', 'S', 'D', 'F', 'G']\n",
      "['A', 'K', 'T', 'C']\n"
     ]
    }
   ],
   "source": [
    "# Slicing........*\n",
    "characters : list[str] = ['A', 'S', 'D', 'F', 'G', 'H', 'J', 'K', 'L', 'P', 'O', 'I', 'U', 'Y', 'T', 'R', 'E', 'W', 'Q', 'Z', 'X', 'C', 'V', 'B', 'N', 'M']\n",
    "print(characters[0:2]) #  0 include  :2-1  =1\n",
    "print(characters[-26:-24]) \n",
    "print(characters[ :5:]) \n",
    "print(characters[::7]) \n",
    "\n"
   ]
  },
  {
   "cell_type": "markdown",
   "metadata": {},
   "source": [
    "List Methods\n"
   ]
  },
  {
   "cell_type": "markdown",
   "metadata": {},
   "source": [
    "* append\n",
    "* remove \n",
    "* copy\n",
    "* count\n",
    "* sort\n",
    "* extend\n",
    "* pop\n",
    "* index\n",
    "* slicing\n",
    "* insert\n",
    "* reverse\n",
    "* length"
   ]
  },
  {
   "cell_type": "code",
   "execution_count": 1,
   "metadata": {},
   "outputs": [
    {
     "name": "stdout",
     "output_type": "stream",
     "text": [
      "Pakistan\n"
     ]
    },
    {
     "data": {
      "text/plain": [
       "None"
      ]
     },
     "metadata": {},
     "output_type": "display_data"
    }
   ],
   "source": [
    "a :str = print(\"Pakistan\")   # non-return function\n",
    "display(a)"
   ]
  },
  {
   "cell_type": "code",
   "execution_count": 4,
   "metadata": {},
   "outputs": [
    {
     "data": {
      "text/plain": [
       "2517831931264"
      ]
     },
     "metadata": {},
     "output_type": "display_data"
    }
   ],
   "source": [
    "names = [\"John\", \"Alice\", \"Bob\"]  # Define names as a list of strings\n",
    "a: str = id(names)  # Get the id of the names variable\n",
    "display(a)"
   ]
  },
  {
   "cell_type": "markdown",
   "metadata": {},
   "source": [
    "# HELP \n",
    "   * help(object)\n",
    "   * object?\n",
    "   * object??\n",
    "   * ??object\n",
    "   * ?object"
   ]
  },
  {
   "cell_type": "code",
   "execution_count": 6,
   "metadata": {},
   "outputs": [
    {
     "name": "stdout",
     "output_type": "stream",
     "text": [
      "John\n"
     ]
    }
   ],
   "source": [
    "names = [\"John\", \"Alice\", \"Bob\"]\n",
    "a:str = names.pop(0)\n",
    "print(a)"
   ]
  },
  {
   "cell_type": "code",
   "execution_count": 7,
   "metadata": {},
   "outputs": [
    {
     "name": "stdout",
     "output_type": "stream",
     "text": [
      "['Ali', 'Ayan', 'Asif']\n"
     ]
    }
   ],
   "source": [
    "# APPEND METHOD\n",
    "names :list[str] =[]\n",
    "names.append(\"Ali\")\n",
    "names.append(\"Ayan\")\n",
    "names.append(\"Asif\")\n",
    "\n",
    "print(names)"
   ]
  },
  {
   "cell_type": "code",
   "execution_count": 8,
   "metadata": {},
   "outputs": [
    {
     "name": "stdout",
     "output_type": "stream",
     "text": [
      "[]\n"
     ]
    }
   ],
   "source": [
    "a:list[str]= ['1', '2' ,'3']\n",
    "a.clear()    # remove all elements but object is remain\n",
    "print(a)"
   ]
  }
 ],
 "metadata": {
  "kernelspec": {
   "display_name": "Python 3",
   "language": "python",
   "name": "python3"
  },
  "language_info": {
   "codemirror_mode": {
    "name": "ipython",
    "version": 3
   },
   "file_extension": ".py",
   "mimetype": "text/x-python",
   "name": "python",
   "nbconvert_exporter": "python",
   "pygments_lexer": "ipython3",
   "version": "3.12.2"
  }
 },
 "nbformat": 4,
 "nbformat_minor": 2
}
