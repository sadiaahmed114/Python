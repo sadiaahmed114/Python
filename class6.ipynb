{
 "cells": [
  {
   "cell_type": "markdown",
   "metadata": {},
   "source": [
    "# if-else-elif\n",
    "```\n",
    "if logic:\n",
    "  True_block\n",
    "else:\n",
    "  False_block\n",
    "```  \n",
    "       "
   ]
  },
  {
   "cell_type": "code",
   "execution_count": 1,
   "metadata": {},
   "outputs": [
    {
     "name": "stdout",
     "output_type": "stream",
     "text": [
      "Pakistan\n"
     ]
    }
   ],
   "source": [
    "if True:\n",
    "    print(\"Pakistan\")\n",
    "else:\n",
    "    print(\"Hello world\")    "
   ]
  },
  {
   "cell_type": "code",
   "execution_count": 2,
   "metadata": {},
   "outputs": [
    {
     "name": "stdout",
     "output_type": "stream",
     "text": [
      "Hello world\n"
     ]
    }
   ],
   "source": [
    "if False:\n",
    "    print(\"Pakistan\")\n",
    "else:\n",
    "    print(\"Hello world\")    "
   ]
  },
  {
   "cell_type": "markdown",
   "metadata": {},
   "source": [
    "# comperassion operators\n",
    "\n",
    "* ==\n",
    "* >=\n",
    "* <=\n",
    "* != \n",
    "\n",
    "## Logic operator\n",
    "\n",
    "* and\n",
    "* or\n",
    "* not"
   ]
  },
  {
   "cell_type": "code",
   "execution_count": 3,
   "metadata": {},
   "outputs": [
    {
     "name": "stdout",
     "output_type": "stream",
     "text": [
      "hello\n"
     ]
    }
   ],
   "source": [
    "if True:\n",
    "    print(\"hello\")\n",
    "\n"
   ]
  },
  {
   "cell_type": "code",
   "execution_count": 4,
   "metadata": {},
   "outputs": [
    {
     "name": "stdout",
     "output_type": "stream",
     "text": [
      "hello\n",
      "1\n",
      "2\n"
     ]
    }
   ],
   "source": [
    "if True:\n",
    "    print(\"hello\")\n",
    "\n",
    "print(\"1\")  \n",
    "print(\"2\")  "
   ]
  },
  {
   "cell_type": "code",
   "execution_count": 5,
   "metadata": {},
   "outputs": [
    {
     "name": "stdout",
     "output_type": "stream",
     "text": [
      "1\n",
      "2\n"
     ]
    }
   ],
   "source": [
    "if False:\n",
    "    print(\"hello\")\n",
    "\n",
    "print(\"1\")  \n",
    "print(\"2\") "
   ]
  },
  {
   "cell_type": "code",
   "execution_count": 6,
   "metadata": {},
   "outputs": [
    {
     "name": "stdout",
     "output_type": "stream",
     "text": [
      "Block1\n"
     ]
    }
   ],
   "source": [
    "if True:\n",
    "    print(\"Block1\")\n",
    "elif False:\n",
    "    print(\"Block2\")  \n",
    "elif False:\n",
    "    print(\"Block3\")      \n",
    "elif False:\n",
    "    print(\"Block4\") \n",
    "else:\n",
    "    print(\"Bye\") \n",
    "            "
   ]
  },
  {
   "cell_type": "code",
   "execution_count": 7,
   "metadata": {},
   "outputs": [
    {
     "name": "stdout",
     "output_type": "stream",
     "text": [
      "Block4\n"
     ]
    }
   ],
   "source": [
    "if False:\n",
    "    print(\"Block1\")\n",
    "elif False:\n",
    "    print(\"Block2\")  \n",
    "elif False:\n",
    "    print(\"Block3\")      \n",
    "elif True:\n",
    "    print(\"Block4\") \n",
    "else:\n",
    "    print(\"Bye\") "
   ]
  },
  {
   "cell_type": "code",
   "execution_count": 8,
   "metadata": {},
   "outputs": [
    {
     "name": "stdout",
     "output_type": "stream",
     "text": [
      "Bye\n"
     ]
    }
   ],
   "source": [
    "if False:\n",
    "    print(\"Block1\")\n",
    "elif False:\n",
    "    print(\"Block2\")  \n",
    "elif False:\n",
    "    print(\"Block3\")      \n",
    "elif  False:\n",
    "    print(\"Block4\") \n",
    "else:\n",
    "    print(\"Bye\") "
   ]
  },
  {
   "cell_type": "markdown",
   "metadata": {},
   "source": [
    "# Grading Rule\n"
   ]
  },
  {
   "cell_type": "code",
   "execution_count": 12,
   "metadata": {},
   "outputs": [
    {
     "name": "stdout",
     "output_type": "stream",
     "text": [
      "Dear student  your percentage is 70 now your calculated grade is : \t A\n"
     ]
    }
   ],
   "source": [
    "from typing import Union \n",
    "\n",
    "per :Union[int ,float] = int(input(\"Enter your percentage : \\t\"))\n",
    "grade : Union[str,None] = None\n",
    "\n",
    "if per >= 80:\n",
    "    grade = \"A+\"\n",
    "elif  per >= 70:\n",
    "    grade = \"A\"\n",
    "elif  per >= 60:\n",
    "    grade = \"B\"\n",
    "elif  per >= 50:\n",
    "    grade = \"C\"  \n",
    "elif  per >= 40:\n",
    "    grade = \"D\"   \n",
    "else:\n",
    "    grade = \"Fail\"   \n",
    "print(f\"Dear student  your percentage is {per} now your calculated grade is : \\t {grade}\")  \n",
    "    \n",
    "\n"
   ]
  }
 ],
 "metadata": {
  "kernelspec": {
   "display_name": "python12",
   "language": "python",
   "name": "python3"
  },
  "language_info": {
   "codemirror_mode": {
    "name": "ipython",
    "version": 3
   },
   "file_extension": ".py",
   "mimetype": "text/x-python",
   "name": "python",
   "nbconvert_exporter": "python",
   "pygments_lexer": "ipython3",
   "version": "3.12.0"
  }
 },
 "nbformat": 4,
 "nbformat_minor": 2
}
