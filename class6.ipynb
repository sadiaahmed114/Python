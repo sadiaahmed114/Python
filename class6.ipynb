{
 "cells": [
  {
   "cell_type": "markdown",
   "metadata": {},
   "source": [
    "# if-else-elif\n",
    "```\n",
    "if logic:\n",
    "  True_block\n",
    "else:\n",
    "  False_block\n",
    "```  \n",
    "       "
   ]
  },
  {
   "cell_type": "code",
   "execution_count": 1,
   "metadata": {},
   "outputs": [
    {
     "name": "stdout",
     "output_type": "stream",
     "text": [
      "Pakistan\n"
     ]
    }
   ],
   "source": [
    "if True:\n",
    "    print(\"Pakistan\")\n",
    "else:\n",
    "    print(\"Hello world\")    "
   ]
  },
  {
   "cell_type": "code",
   "execution_count": 2,
   "metadata": {},
   "outputs": [
    {
     "name": "stdout",
     "output_type": "stream",
     "text": [
      "Hello world\n"
     ]
    }
   ],
   "source": [
    "if False:\n",
    "    print(\"Pakistan\")\n",
    "else:\n",
    "    print(\"Hello world\")    "
   ]
  },
  {
   "cell_type": "markdown",
   "metadata": {},
   "source": [
    "# comperassion operators\n",
    "\n",
    "* ==\n",
    "* >=\n",
    "* <=\n",
    "* != \n",
    "\n",
    "## Logic operator\n",
    "\n",
    "* and\n",
    "* or\n",
    "* not"
   ]
  },
  {
   "cell_type": "code",
   "execution_count": 3,
   "metadata": {},
   "outputs": [
    {
     "name": "stdout",
     "output_type": "stream",
     "text": [
      "hello\n"
     ]
    }
   ],
   "source": [
    "if True:\n",
    "    print(\"hello\")\n",
    "\n"
   ]
  },
  {
   "cell_type": "code",
   "execution_count": 4,
   "metadata": {},
   "outputs": [
    {
     "name": "stdout",
     "output_type": "stream",
     "text": [
      "hello\n",
      "1\n",
      "2\n"
     ]
    }
   ],
   "source": [
    "if True:\n",
    "    print(\"hello\")\n",
    "\n",
    "print(\"1\")  \n",
    "print(\"2\")  "
   ]
  },
  {
   "cell_type": "code",
   "execution_count": 5,
   "metadata": {},
   "outputs": [
    {
     "name": "stdout",
     "output_type": "stream",
     "text": [
      "1\n",
      "2\n"
     ]
    }
   ],
   "source": [
    "if False:\n",
    "    print(\"hello\")\n",
    "\n",
    "print(\"1\")  \n",
    "print(\"2\") "
   ]
  },
  {
   "cell_type": "code",
   "execution_count": 6,
   "metadata": {},
   "outputs": [
    {
     "name": "stdout",
     "output_type": "stream",
     "text": [
      "Block1\n"
     ]
    }
   ],
   "source": [
    "if True:\n",
    "    print(\"Block1\")\n",
    "elif False:\n",
    "    print(\"Block2\")  \n",
    "elif False:\n",
    "    print(\"Block3\")      \n",
    "elif False:\n",
    "    print(\"Block4\") \n",
    "else:\n",
    "    print(\"Bye\") \n",
    "            "
   ]
  },
  {
   "cell_type": "code",
   "execution_count": 7,
   "metadata": {},
   "outputs": [
    {
     "name": "stdout",
     "output_type": "stream",
     "text": [
      "Block4\n"
     ]
    }
   ],
   "source": [
    "if False:\n",
    "    print(\"Block1\")\n",
    "elif False:\n",
    "    print(\"Block2\")  \n",
    "elif False:\n",
    "    print(\"Block3\")      \n",
    "elif True:\n",
    "    print(\"Block4\") \n",
    "else:\n",
    "    print(\"Bye\") "
   ]
  },
  {
   "cell_type": "code",
   "execution_count": 8,
   "metadata": {},
   "outputs": [
    {
     "name": "stdout",
     "output_type": "stream",
     "text": [
      "Bye\n"
     ]
    }
   ],
   "source": [
    "if False:\n",
    "    print(\"Block1\")\n",
    "elif False:\n",
    "    print(\"Block2\")  \n",
    "elif False:\n",
    "    print(\"Block3\")      \n",
    "elif  False:\n",
    "    print(\"Block4\") \n",
    "else:\n",
    "    print(\"Bye\") "
   ]
  },
  {
   "cell_type": "markdown",
   "metadata": {},
   "source": [
    "# Grading Rule\n"
   ]
  },
  {
   "cell_type": "code",
   "execution_count": 12,
   "metadata": {},
   "outputs": [
    {
     "name": "stdout",
     "output_type": "stream",
     "text": [
      "Dear student  your percentage is 70 now your calculated grade is : \t A\n"
     ]
    }
   ],
   "source": [
    "from typing import Union \n",
    "\n",
    "per :Union[int ,float] = int(input(\"Enter your percentage : \\t\"))\n",
    "grade : Union[str,None] = None\n",
    "\n",
    "if per >= 80:\n",
    "    grade = \"A+\"\n",
    "elif  per >= 70:\n",
    "    grade = \"A\"\n",
    "elif  per >= 60:\n",
    "    grade = \"B\"\n",
    "elif  per >= 50:\n",
    "    grade = \"C\"  \n",
    "elif  per >= 40:\n",
    "    grade = \"D\"   \n",
    "else:\n",
    "    grade = \"Fail\"   \n",
    "print(f\"Dear student  your percentage is {per} now your calculated grade is : \\t {grade}\")  \n",
    "    \n",
    "\n"
   ]
  },
  {
   "cell_type": "code",
   "execution_count": 13,
   "metadata": {},
   "outputs": [
    {
     "name": "stdout",
     "output_type": "stream",
     "text": [
      "Dear student  your percentage is 87 now your calculated grade is : \t A+\n"
     ]
    }
   ],
   "source": [
    "from typing import Union \n",
    "\n",
    "per :Union[int ,float] = int(input(\"Enter your percentage : \\t\"))\n",
    "grade : Union[str,None] = None\n",
    "\n",
    "if (per >= 0 )and (per < 33):\n",
    "    grade = \"Fail\"\n",
    "elif  (per >= 33) and (per < 40):\n",
    "    grade = \"E\"\n",
    "elif  (per >= 40) and (per < 50) :\n",
    "    grade = \"D\"\n",
    "elif  (per >= 50) and (per < 60):\n",
    "    grade = \"C\"  \n",
    "elif  (per >= 60 )and (per < 70):\n",
    "    grade = \"B\"   \n",
    "elif  (per >= 70 )and (per < 80):\n",
    "    grade = \"A\"      \n",
    "else :\n",
    "    grade = \"A+\"   \n",
    "print(f\"Dear student  your percentage is {per} now your calculated grade is : \\t {grade}\")  \n",
    "    \n",
    "\n"
   ]
  },
  {
   "cell_type": "markdown",
   "metadata": {},
   "source": [
    "# Student percentage"
   ]
  },
  {
   "cell_type": "code",
   "execution_count": 14,
   "metadata": {},
   "outputs": [
    {
     "name": "stdout",
     "output_type": "stream",
     "text": [
      "[88, 76, 51, 67, 92, 80, 45]\n",
      "['A+', 'A', 'C', 'B', 'A+', 'A+', 'D']\n"
     ]
    }
   ],
   "source": [
    "from typing import Union \n",
    "PerType = Union[float , int]\n",
    "\n",
    "percentages : list[PerType] = [88 , 76, 51, 67,92,80,45]\n",
    "\n",
    "grades: list[str] = []\n",
    "\n",
    "for per in percentages : \n",
    "    grade:str = \"\"\n",
    "\n",
    "    if (per >= 0 )and (per < 33):\n",
    "        grade = \"Fail\"\n",
    "    elif  (per >= 33) and (per < 40):\n",
    "        grade = \"E\"\n",
    "    elif  (per >= 40) and (per < 50) :\n",
    "        grade = \"D\"\n",
    "    elif  (per >= 50) and (per < 60):\n",
    "        grade = \"C\"  \n",
    "    elif  (per >= 60 )and (per < 70):\n",
    "       grade = \"B\"   \n",
    "    elif  (per >= 70 )and (per < 80):\n",
    "       grade = \"A\"      \n",
    "    else :\n",
    "       grade = \"A+\"   \n",
    "    grades.append(grade)   \n",
    "print(percentages)  \n",
    "print(grades)  "
   ]
  },
  {
   "cell_type": "markdown",
   "metadata": {},
   "source": [
    "# Zip\n",
    "\n",
    " zip k ander ame index k oper same hook hoty hain jo kia kerty hain ...jesy ap unhain zip kerty ho tu same index k jo hook hoty hain wo jurty jaty hain ......issi tarah jab  same length k do index ya tuple etc jab main inhain zip keronga tu zip ka function kia kary ga ???\n"
   ]
  },
  {
   "cell_type": "code",
   "execution_count": 17,
   "metadata": {},
   "outputs": [
    {
     "data": {
      "text/plain": [
       "[(88, 'A+', 0),\n",
       " (76, 'A', 1),\n",
       " (51, 'C', 2),\n",
       " (67, 'B', 3),\n",
       " (92, 'A+', 4),\n",
       " (80, 'A+', 5),\n",
       " (45, 'D', 6)]"
      ]
     },
     "execution_count": 17,
     "metadata": {},
     "output_type": "execute_result"
    }
   ],
   "source": [
    "list(zip(percentages, grades, list(range(len(percentages)))))"
   ]
  },
  {
   "cell_type": "code",
   "execution_count": 19,
   "metadata": {},
   "outputs": [
    {
     "data": {
      "text/plain": [
       "[0, 1, 2, 3, 4, 5, 6]"
      ]
     },
     "execution_count": 19,
     "metadata": {},
     "output_type": "execute_result"
    }
   ],
   "source": [
    "roll_no: list[int] = list(range(len(percentages)))\n",
    "roll_no"
   ]
  },
  {
   "cell_type": "code",
   "execution_count": 23,
   "metadata": {},
   "outputs": [
    {
     "data": {
      "text/plain": [
       "[(0, 88, 'A+'),\n",
       " (1, 76, 'A'),\n",
       " (2, 51, 'C'),\n",
       " (3, 67, 'B'),\n",
       " (4, 92, 'A+'),\n",
       " (5, 80, 'A+'),\n",
       " (6, 45, 'D')]"
      ]
     },
     "execution_count": 23,
     "metadata": {},
     "output_type": "execute_result"
    }
   ],
   "source": [
    "data_base = list(zip(roll_no,percentages , grades))\n",
    "data_base"
   ]
  },
  {
   "cell_type": "markdown",
   "metadata": {},
   "source": [
    "Sorted Function"
   ]
  },
  {
   "cell_type": "code",
   "execution_count": 24,
   "metadata": {},
   "outputs": [
    {
     "data": {
      "text/plain": [
       "[(0, 88, 'A+'),\n",
       " (1, 76, 'A'),\n",
       " (2, 51, 'C'),\n",
       " (3, 67, 'B'),\n",
       " (4, 92, 'A+'),\n",
       " (5, 80, 'A+'),\n",
       " (6, 45, 'D')]"
      ]
     },
     "metadata": {},
     "output_type": "display_data"
    },
    {
     "data": {
      "text/plain": [
       "[(0, 88, 'A+'),\n",
       " (1, 76, 'A'),\n",
       " (2, 51, 'C'),\n",
       " (3, 67, 'B'),\n",
       " (4, 92, 'A+'),\n",
       " (5, 80, 'A+'),\n",
       " (6, 45, 'D')]"
      ]
     },
     "execution_count": 24,
     "metadata": {},
     "output_type": "execute_result"
    }
   ],
   "source": [
    "display(data_base)\n",
    "sorted(data_base)"
   ]
  },
  {
   "cell_type": "code",
   "execution_count": null,
   "metadata": {},
   "outputs": [],
   "source": [
    "# main chah rahi ho isko main 2nd column ki base per sort keron? \n",
    "\n"
   ]
  }
 ],
 "metadata": {
  "kernelspec": {
   "display_name": "python12",
   "language": "python",
   "name": "python3"
  },
  "language_info": {
   "codemirror_mode": {
    "name": "ipython",
    "version": 3
   },
   "file_extension": ".py",
   "mimetype": "text/x-python",
   "name": "python",
   "nbconvert_exporter": "python",
   "pygments_lexer": "ipython3",
   "version": "3.12.0"
  }
 },
 "nbformat": 4,
 "nbformat_minor": 2
}
